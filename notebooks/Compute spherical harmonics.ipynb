{
 "cells": [
  {
   "cell_type": "markdown",
   "id": "b373e6b0-0a92-4088-9759-9387db9bde6e",
   "metadata": {},
   "source": [
    "# Compute spherical harmonics"
   ]
  },
  {
   "cell_type": "markdown",
   "id": "a6f4e36a-0c3e-498b-82b2-e4266e93bbbc",
   "metadata": {},
   "source": [
    "Make only  \n",
    "    # 'shape_mode_1_height', 'shape_mode_2_volume',  \n",
    "    # 'shape_mode_3_major_tilt', 'shape_mode_4_minor_tilt',  \n",
    "    # 'shape_mode_5_elongation', 'shape_mode_6_bean-ness',  \n",
    "    # 'shape_mode_7_pear-ness', 'shape_mode_8_wedge',  \n",
    "Use cell segmentation channel, and `compute_lcc = False` to speed-up computation"
   ]
  },
  {
   "cell_type": "code",
   "execution_count": 28,
   "id": "b93512cf-a20e-48d2-b7e1-ccbd1912d0d3",
   "metadata": {},
   "outputs": [],
   "source": [
    "# read_ome_zarr?"
   ]
  },
  {
   "cell_type": "code",
   "execution_count": 27,
   "id": "8d998da1-a0ac-4f0d-ab30-e3d0b2c23986",
   "metadata": {},
   "outputs": [],
   "source": [
    "# !cat /opt/conda/lib/python3.10/site-packages/aicsimageprocessing/diagnosticsheet.py"
   ]
  },
  {
   "cell_type": "code",
   "execution_count": null,
   "id": "6750a689-74b0-489d-8092-c32ab412757d",
   "metadata": {},
   "outputs": [],
   "source": [
    "# If not already installed, run:\n",
    "# !pip install aicsshparam"
   ]
  },
  {
   "cell_type": "code",
   "execution_count": 11,
   "id": "b980ae09-fc2c-4702-9706-830eab630166",
   "metadata": {},
   "outputs": [],
   "source": [
    "import numpy as np\n",
    "import pandas as pd\n",
    "%matplotlib inline\n",
    "import matplotlib.pyplot as plt\n",
    "from aicsimageprocessing import diagnostic_sheet, read_ome_zarr, rescale_image, imgtoprojection\n",
    "from upath import UPath as Path\n",
    "import warnings\n",
    "from aicsimageio import transforms, AICSImage\n",
    "import nbvv\n",
    "from sklearn.decomposition import PCA\n",
    "from aicsshparam import shtools, shparam\n",
    "from time import time\n",
    "from tqdm import trange"
   ]
  },
  {
   "cell_type": "code",
   "execution_count": 2,
   "id": "a84abeec-553f-45d6-81f5-3eb37b89c434",
   "metadata": {},
   "outputs": [
    {
     "name": "stdout",
     "output_type": "stream",
     "text": [
      "Number of cells: 10381\n",
      "Number of columns: 79\n"
     ]
    }
   ],
   "source": [
    "df = pd.read_csv(\"../data/mitocells.csv\")\n",
    "df.set_index(df['CellId'].astype(int), inplace=True)\n",
    "print(f'Number of cells: {len(df)}')\n",
    "print(f'Number of columns: {len(df.columns)}')"
   ]
  },
  {
   "cell_type": "code",
   "execution_count": 3,
   "id": "c3f684d8-b3da-4453-86fa-5eaffd52dff0",
   "metadata": {},
   "outputs": [],
   "source": [
    "col_df = pd.read_csv(\"resources/hackathon_column_descriptions.csv\",delimiter=\",\")\n",
    "col_df.columns = [\"column name\",\"description\",\"category\"]\n",
    "# for index, row in col_df.iterrows():\n",
    "#     print(row.values)"
   ]
  },
  {
   "cell_type": "code",
   "execution_count": 6,
   "id": "8ba60cbb-da66-42a3-9528-a26fb33c85b5",
   "metadata": {},
   "outputs": [
    {
     "name": "stdout",
     "output_type": "stream",
     "text": [
      "fits_x    True\n",
      "fits_y    True\n",
      "fits_z    True\n",
      "Name: 548948, dtype: object\n",
      "['bf', 'dna', 'membrane', 'structure', 'dna_segmentation', 'membrane_segmentation', 'struct_segmentation_roof']\n",
      "(129, 238, 374)\n",
      "(64, 119, 187)\n",
      "(32, 60, 94)\n",
      "                          0          1          2\n",
      "shcoeffs_L0M0C    76.638496  37.802534  18.748446\n",
      "shcoeffs_L0M1C     0.000000   0.000000   0.000000\n",
      "shcoeffs_L0M2C     0.000000   0.000000   0.000000\n",
      "shcoeffs_L0M3C     0.000000   0.000000   0.000000\n",
      "shcoeffs_L0M4C     0.000000   0.000000   0.000000\n",
      "...                     ...        ...        ...\n",
      "shcoeffs_L16M12S   0.051115   0.026313   0.017177\n",
      "shcoeffs_L16M13S  -0.089246  -0.046740  -0.015847\n",
      "shcoeffs_L16M14S  -0.098975  -0.071369  -0.022108\n",
      "shcoeffs_L16M15S  -0.005448  -0.003924   0.012508\n",
      "shcoeffs_L16M16S   0.166166   0.083163   0.043693\n",
      "\n",
      "[578 rows x 3 columns]\n"
     ]
    }
   ],
   "source": [
    "some_cell = df.sample(1).iloc[0]\n",
    "\n",
    "df_coeffs = pd.DataFrame([])\n",
    "for level in [0, 1, 2]:\n",
    "    # Final images saved under column name \"3d_image\"\n",
    "    full_img = read_ome_zarr(some_cell[\"3d_image\"], level=level)\n",
    "    if level == 0:\n",
    "        # Inspect whether this image fits the bounding box in z, y, and x\n",
    "        print(some_cell[[i for i in some_cell.index if \"fit\" in i]])\n",
    "        # Images have 7 channels for brightfield + DNA, membrane, and structure intensity and segmentation channels\n",
    "        print(full_img.channel_names)\n",
    "    img = full_img.data.squeeze()[5]\n",
    "    print(img.shape)\n",
    "    plt.figure()\n",
    "    plt.imshow(img.max(0), aspect='auto')\n",
    "    plt.colorbar()\n",
    "    plt.show()\n",
    "    (coeffs, _), _ = shparam.get_shcoeffs(image=img, lmax=16)\n",
    "    df_coeffs = pd.concat([df_coeffs, pd.Series(coeffs)], axis=1, ignore_index=True)\n",
    "print(df_coeffs)"
   ]
  },
  {
   "cell_type": "code",
   "execution_count": 6,
   "id": "80f23999-370c-4cf4-835a-ae66e34bffbb",
   "metadata": {},
   "outputs": [
    {
     "name": "stdout",
     "output_type": "stream",
     "text": [
      "Computation took 65.8283588886261s for 10 images\n"
     ]
    }
   ],
   "source": [
    "# Compute spherical harmonics coefficients of shape and store them\n",
    "# in a pandas dataframe.\n",
    "nb_imgs = 10\n",
    "df_coeffs = pd.DataFrame([])\n",
    "tic = time()\n",
    "for i in range(nb_imgs):\n",
    "    # load image\n",
    "    some_cell = df.iloc[i, :]\n",
    "    img = read_ome_zarr(some_cell[\"3d_image\"], level=0).data.squeeze()[5]\n",
    "    \n",
    "    # Parameterize with L=4, which corresponds to 50 coefficients\n",
    "    # in total\n",
    "    (coeffs, _), _ = shparam.get_shcoeffs(image=img, lmax=4)\n",
    "    coeffs.update({'CellId': df.index[i]})\n",
    "    \n",
    "    df_coeffs = pd.concat([df_coeffs, pd.Series(coeffs)], axis=1, ignore_index=True)\n",
    "duration = time() - tic\n",
    "print(f\"Computation took {duration}s for {nb_imgs} images\")\n"
   ]
  },
  {
   "cell_type": "code",
   "execution_count": 76,
   "id": "f13a57c1-3f5c-4101-b2ab-6f9dbc410be8",
   "metadata": {},
   "outputs": [
    {
     "name": "stdout",
     "output_type": "stream",
     "text": [
      "[[4, 50], [5, 72], [6, 98], [7, 128], [8, 162], [9, 200], [10, 242], [11, 288], [12, 338], [13, 392], [14, 450], [15, 512], [16, 578]]\n"
     ]
    }
   ],
   "source": [
    "res = []\n",
    "for i in range(4, 17):\n",
    "    (coeffs, _), _ = shparam.get_shcoeffs(image=img, lmax=i)\n",
    "    res.append([i, len(coeffs)])\n",
    "print(res)"
   ]
  },
  {
   "cell_type": "code",
   "execution_count": null,
   "id": "00bafdcc-a7d8-498d-bf54-ceb780abc8ba",
   "metadata": {},
   "outputs": [
    {
     "name": "stderr",
     "output_type": "stream",
     "text": [
      "  0%|          | 31/10381 [03:36<20:09:51,  7.01s/it]/opt/conda/lib/python3.10/site-packages/aicsshparam/shparam.py:127: UserWarning: Mesh centroid seems to fall outside the object. This indicates        the mesh may not be a manifold suitable for spherical harmonics        parameterization.\n",
      "  warnings.warn(\n",
      "  0%|          | 48/10381 [05:33<19:51:56,  6.92s/it]"
     ]
    }
   ],
   "source": [
    "level = 0\n",
    "cell_ids = np.array(df.index.values) # copy values\n",
    "np.random.shuffle(cell_ids)\n",
    "\n",
    "df_coeffs = pd.DataFrame([])\n",
    "tic = time()\n",
    "for i in trange(len(cell_ids)):\n",
    "# for i in trange(10):\n",
    "    # load image\n",
    "    cell_id = cell_ids[0]\n",
    "    some_cell = df.loc[cell_id, :]\n",
    "    img = read_ome_zarr(some_cell[\"3d_image\"], level=level).data.squeeze()[5]\n",
    "    \n",
    "    # Parameterize with L=4, which corresponds to 50 coefficients\n",
    "    # in total\n",
    "    (coeffs, _), _ = shparam.get_shcoeffs(image=img, lmax=16)\n",
    "    coeffs.update({'CellId': cell_id})\n",
    "    cell_ids = cell_ids[1:]\n",
    "    \n",
    "    df_coeffs = pd.concat([df_coeffs, pd.Series(coeffs)], axis=1, ignore_index=False)\n",
    "    if (i+1) % 100 == 0:\n",
    "        df_coeffs.T.to_csv(\"../data/shape_coefficients.csv\", index=False)\n",
    "duration = time() - tic\n",
    "print(f\"Computation took {duration}s for {len(df)} images\")"
   ]
  },
  {
   "cell_type": "code",
   "execution_count": null,
   "id": "a32a2447-3e85-42da-b5ba-3e06e7009b0a",
   "metadata": {},
   "outputs": [],
   "source": []
  },
  {
   "cell_type": "code",
   "execution_count": null,
   "id": "11b3a3a1-911b-4871-9841-64e11a4bc93c",
   "metadata": {},
   "outputs": [],
   "source": []
  }
 ],
 "metadata": {
  "kernelspec": {
   "display_name": "Python 3 (ipykernel)",
   "language": "python",
   "name": "python3"
  },
  "language_info": {
   "codemirror_mode": {
    "name": "ipython",
    "version": 3
   },
   "file_extension": ".py",
   "mimetype": "text/x-python",
   "name": "python",
   "nbconvert_exporter": "python",
   "pygments_lexer": "ipython3",
   "version": "3.10.6"
  }
 },
 "nbformat": 4,
 "nbformat_minor": 5
}
