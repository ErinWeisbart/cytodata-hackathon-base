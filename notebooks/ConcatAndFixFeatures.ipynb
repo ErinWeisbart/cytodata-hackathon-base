{
 "cells": [
  {
   "cell_type": "code",
   "execution_count": null,
   "id": "7f9f7fe0",
   "metadata": {},
   "outputs": [],
   "source": [
    "import pandas\n",
    "import json\n",
    "import os"
   ]
  },
  {
   "cell_type": "code",
   "execution_count": null,
   "id": "a0a82241",
   "metadata": {},
   "outputs": [],
   "source": [
    "main_df = pandas.read_csv('mitocells.csv')"
   ]
  },
  {
   "cell_type": "code",
   "execution_count": null,
   "id": "b9e610c4",
   "metadata": {},
   "outputs": [],
   "source": [
    "to_concat = ['granularity','shape','texture5','texture3','texture10']\n",
    "cols2D=['max_projection_x','max_projection_y','max_projection_z','mean_projection_x','mean_projection_y','mean_projection_z','center_slice',]\n",
    "cell_stages=[\"M0\",\"M1M2\",\"M3\",\"M4M5\",\"M6M7_complete\"]"
   ]
  },
  {
   "cell_type": "code",
   "execution_count": null,
   "id": "581682ee",
   "metadata": {},
   "outputs": [],
   "source": [
    "for eachstage in cell_stages:\n",
    "    stage_df = main_df.query(f\"cell_stage == '{eachstage}'\")\n",
    "    for eachfeature in to_concat:\n",
    "        for eachproj in cols2D:\n",
    "            try:\n",
    "                print(f\"{eachfeature}/mitocells{eachstage}{eachproj}.csv\")\n",
    "                feature_df = pandas.read_csv(f\"{eachfeature}/mitocells{eachstage}{eachproj}.csv\")\n",
    "            except FileNotFoundError:\n",
    "                with open(f\"{eachfeature}/texture_5_{eachstage}_{eachproj}.json\",\"r\") as jsonfile:\n",
    "                    feature_df = pandas.DataFrame(json.load(jsonfile))\n",
    "            feature_columns_lower = [x.lower() for x in feature_df.columns]\n",
    "            feature_df_columns = [x for x in feature_columns_lower if eachfeature[:-1] in x]\n",
    "            if eachfeature == 'shape':\n",
    "                feature_df_columns = [x for x in feature_df_columns if 'shape_mode' not in x]\n",
    "            if eachstage != \"M0\":\n",
    "                if \"angle\" in feature_df.columns:\n",
    "                    feature_df = feature_df.query(\"angle != angle\") #remove orginal rows\n",
    "                    feature_df = feature_df.reset_index(drop=True)\n",
    "                stage_df = stage_df.reset_index(drop=True)\n",
    "            feature_columns_to_use = [x for x in feature_df.columns if x.lower() in feature_df_columns]\n",
    "            stage_df = stage_df.join(feature_df[feature_columns_to_use])\n",
    "    stage_df.to_csv(f\"cells_with_features_stage_{eachstage}.csv\",index=False)\n",
    "                "
   ]
  },
  {
   "cell_type": "code",
   "execution_count": null,
   "id": "d7717a09",
   "metadata": {},
   "outputs": [],
   "source": [
    "cells_with_features_list=[]\n",
    "for eachstage in cell_stages:\n",
    "    cells_with_features_list.append(pandas.read_csv(f\"cells_with_features_stage_{eachstage}.csv\"))\n",
    "cells_df = pandas.concat(cells_with_features_list)\n",
    "cells_df.to_csv('all_cells_with_features.csv',index=False)"
   ]
  },
  {
   "cell_type": "code",
   "execution_count": null,
   "id": "7c33bb97",
   "metadata": {},
   "outputs": [],
   "source": []
  }
 ],
 "metadata": {
  "kernelspec": {
   "display_name": "Python 3 (ipykernel)",
   "language": "python",
   "name": "python3"
  },
  "language_info": {
   "codemirror_mode": {
    "name": "ipython",
    "version": 3
   },
   "file_extension": ".py",
   "mimetype": "text/x-python",
   "name": "python",
   "nbconvert_exporter": "python",
   "pygments_lexer": "ipython3",
   "version": "3.8.15"
  }
 },
 "nbformat": 4,
 "nbformat_minor": 5
}
