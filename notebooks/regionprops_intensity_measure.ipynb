{
 "cells": [
  {
   "cell_type": "markdown",
   "id": "9ab3592b-e211-4f33-a3f1-61ee93c415c1",
   "metadata": {},
   "source": [
    "# Measure intensities with regionprops"
   ]
  },
  {
   "cell_type": "code",
   "execution_count": null,
   "id": "00198a03-56c9-4ee0-b39e-9882ba1c464c",
   "metadata": {},
   "outputs": [],
   "source": [
    "# Unregister => larger images\n",
    "# unaligned => not turned to major axis\n",
    "# "
   ]
  },
  {
   "cell_type": "code",
   "execution_count": 1,
   "id": "866db225-9c62-4aa7-8d86-a597e3d566e7",
   "metadata": {},
   "outputs": [
    {
     "name": "stderr",
     "output_type": "stream",
     "text": [
      "19-Oct-22 22:01:01 - bfio.backends - WARNING  - Java backend is not available. This could be due to a missing dependency (jpype).\n"
     ]
    }
   ],
   "source": [
    "import pandas as pd\n",
    "import matplotlib.pyplot as plt\n",
    "from aicsimageprocessing import diagnostic_sheet, read_ome_zarr, rescale_image, imgtoprojection\n",
    "from upath import UPath as Path\n",
    "import warnings\n",
    "from aicsimageio import transforms, AICSImage\n",
    "import nbvv\n",
    "import os\n",
    "import numpy as np\n",
    "import time\n",
    "from scipy.spatial import distance\n",
    "from serotiny.io.image import image_loader\n",
    "# df = pd.read_parquet(\"s3://allencell-hipsc-cytodata/hackathon_manifest_17oct2022.parquet\")\n",
    "#df = pd.read_parquet(\"s3://allencell-hipsc-cytodata/hackathon_manifest_17oct2022.parquet\")\n",
    "#print(f'Number of cells: {len(df)}')\n",
    "#print(f'Number of columns: {len(df.columns)}')"
   ]
  },
  {
   "cell_type": "code",
   "execution_count": 28,
   "id": "e90255cd-6d99-4d0f-a5de-bcc9556587f3",
   "metadata": {},
   "outputs": [],
   "source": [
    "from skimage.measure import regionprops, regionprops_table\n",
    "def get_regionprops_meas(img_data, cell_id):\n",
    "    # Not meaningful, because of the rescaling\n",
    "    # Can we calculate this on raw pixel values? => Guy is looking into this\n",
    "    desired_properties = [\n",
    "        \"area\",\n",
    "        \"centroid\",\n",
    "        \"major_axis_length\",\n",
    "        \"minor_axis_length\",\n",
    "        \"extent\",\n",
    "        \"equivalent_diameter\",\n",
    "    ]\n",
    "    \n",
    "    intensity_properties = [\n",
    "        'intensity_mean',\n",
    "        'intensity_max',\n",
    "        'intensity_min',\n",
    "    ]\n",
    "    \n",
    "    props = pd.DataFrame(regionprops_table(img_data[5, :, :, :], properties=desired_properties))\n",
    "    props['CellId'] = cell_id\n",
    "    \n",
    "    props_int_bf = pd.DataFrame(regionprops_table(img_data[5, :, :, :], img_data[0, :, :, :], properties=intensity_properties)).add_prefix('bf_')\n",
    "    \n",
    "    props_int_dna = pd.DataFrame(regionprops_table(img_data[5, :, :, :], img_data[1, :, :, :], properties=intensity_properties)).add_prefix('dna_')\n",
    "\n",
    "    props_int_membrane = pd.DataFrame(regionprops_table(img_data[5, :, :, :], img_data[2, :, :, :], properties=intensity_properties)).add_prefix('membrane_')\n",
    "\n",
    "    props_int_structure = pd.DataFrame(regionprops_table(img_data[5, :, :, :], img_data[3, :, :, :], properties=intensity_properties)).add_prefix('structure_')\n",
    "    \n",
    "    return pd.concat([props, props_int_bf, props_int_dna, props_int_membrane, props_int_structure], axis=1)"
   ]
  },
  {
   "cell_type": "code",
   "execution_count": 3,
   "id": "4ddf1dfc-a012-4545-9c63-9bd70c9e5a35",
   "metadata": {},
   "outputs": [],
   "source": [
    "df = pd.read_csv('/home/aicsuser/cytodata-hackathon-base/data/mitocells.csv')"
   ]
  },
  {
   "cell_type": "code",
   "execution_count": 4,
   "id": "b04dace3-8148-42c6-a3da-77cfb4230e28",
   "metadata": {},
   "outputs": [],
   "source": [
    "df[\"raw_image\"] = df[\"3d_image\"].str.replace(\"register\", \"merge\")\n",
    "df[\"raw_image\"] = df[\"raw_image\"].str.replace(\"zarr\", \"tiff\")"
   ]
  },
  {
   "cell_type": "code",
   "execution_count": 14,
   "id": "c119585b-e2bb-40b4-82ce-bbb3b707fe2a",
   "metadata": {},
   "outputs": [
    {
     "name": "stderr",
     "output_type": "stream",
     "text": [
      "/opt/conda/lib/python3.10/site-packages/ome_types/_convenience.py:105: FutureWarning: The default XML parser will be changing from 'xmlschema' to 'lxml' in version 0.4.0.  To silence this warning, please provide the `parser` argument, specifying either 'lxml' (to opt into the new behavior), or'xmlschema' (to retain the old behavior).\n",
      "  d = to_dict(os.fspath(xml), parser=parser, validate=validate)\n"
     ]
    },
    {
     "data": {
      "text/plain": [
       "(7, 81, 536, 435)"
      ]
     },
     "execution_count": 14,
     "metadata": {},
     "output_type": "execute_result"
    }
   ],
   "source": [
    "some_cell = df.sample(1).iloc[0]\n",
    "# full_img = read_ome_zarr(some_cell[\"3d_image\"], level = 2)\n",
    "#full_img = read_ome_zarr(some_cell[\"raw_image\"])\n",
    "full_img = image_loader(some_cell[\"raw_image\"])\n",
    "full_img.shape\n",
    "#img_data = full_img.data.squeeze()\n",
    "#img_data.shape"
   ]
  },
  {
   "cell_type": "code",
   "execution_count": null,
   "id": "bd30a2d2-73b5-45f7-89f3-00eb0ca671e5",
   "metadata": {},
   "outputs": [],
   "source": [
    "feature_df = pd.DataFrame()\n",
    "for index, curr_cell in df.iterrows():\n",
    "    print(index)\n",
    "    # Get raw image data based on current cell ID\n",
    "    full_img = image_loader(curr_cell[\"raw_image\"])\n",
    "\n",
    "    # Calculate regionprops based on image data\n",
    "    curr_df = get_regionprops_meas(full_img, curr_cell['CellId'])\n",
    "\n",
    "    # Add df to the main df\n",
    "    feature_df = pd.concat([feature_df, curr_df])\n",
    "    \n",
    "df = pd.merge(df, feature_df, on='CellId')"
   ]
  },
  {
   "cell_type": "code",
   "execution_count": null,
   "id": "6fe6d304-e8ab-4a4d-8799-d0a9f7d79564",
   "metadata": {},
   "outputs": [],
   "source": [
    "df"
   ]
  }
 ],
 "metadata": {
  "kernelspec": {
   "display_name": "Python 3 (ipykernel)",
   "language": "python",
   "name": "python3"
  },
  "language_info": {
   "codemirror_mode": {
    "name": "ipython",
    "version": 3
   },
   "file_extension": ".py",
   "mimetype": "text/x-python",
   "name": "python",
   "nbconvert_exporter": "python",
   "pygments_lexer": "ipython3",
   "version": "3.10.6"
  }
 },
 "nbformat": 4,
 "nbformat_minor": 5
}
